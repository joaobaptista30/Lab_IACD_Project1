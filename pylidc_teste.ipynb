{
 "cells": [
  {
   "cell_type": "code",
   "execution_count": 1,
   "metadata": {},
   "outputs": [],
   "source": [
    "import pylidc as pl"
   ]
  },
  {
   "cell_type": "code",
   "execution_count": 7,
   "metadata": {},
   "outputs": [
    {
     "name": "stdout",
     "output_type": "stream",
     "text": [
      "31\n"
     ]
    }
   ],
   "source": [
    "# Query for all CT scans with desired traits.\n",
    "scans = pl.query(pl.Scan).filter(pl.Scan.slice_thickness <= 1,\n",
    "                                 pl.Scan.pixel_spacing <= 0.6)\n",
    "print(scans.count())\n",
    "# => 31\n",
    "\n",
    "pid = 'LIDC-IDRI-0001'\n",
    "scan = pl.query(pl.Scan).filter(pl.Scan.patient_id == pid).first()\n"
   ]
  },
  {
   "cell_type": "code",
   "execution_count": 10,
   "metadata": {},
   "outputs": [
    {
     "name": "stdout",
     "output_type": "stream",
     "text": [
      "Scan(id=12,patient_id=LIDC-IDRI-0001) has 1 nodules.\n",
      "Nodule 1 has 4 annotations.\n"
     ]
    }
   ],
   "source": [
    "nods = scan.cluster_annotations()\n",
    "\n",
    "print(\"%s has %d nodules.\" % (scan, len(nods)))\n",
    "# => Scan(id=1,patient_id=LIDC-IDRI-0078) has 4 nodules.\n",
    "\n",
    "for i,nod in enumerate(nods):\n",
    "    print(\"Nodule %d has %d annotations.\" % (i+1, len(nods[i])))\n",
    "# => Nodule 1 has 4 annotations.\n",
    "# => Nodule 2 has 4 annotations.\n",
    "# => Nodule 3 has 1 annotations.\n",
    "# => Nodule 4 has 4 annotations.\n"
   ]
  },
  {
   "cell_type": "code",
   "execution_count": null,
   "metadata": {},
   "outputs": [],
   "source": [
    "scan.visualize(annotation_groups=nods)"
   ]
  }
 ],
 "metadata": {
  "kernelspec": {
   "display_name": "LabIACD_1",
   "language": "python",
   "name": "python3"
  },
  "language_info": {
   "codemirror_mode": {
    "name": "ipython",
    "version": 3
   },
   "file_extension": ".py",
   "mimetype": "text/x-python",
   "name": "python",
   "nbconvert_exporter": "python",
   "pygments_lexer": "ipython3",
   "version": "3.12.6"
  }
 },
 "nbformat": 4,
 "nbformat_minor": 2
}
